{
 "cells": [
  {
   "cell_type": "code",
   "execution_count": 1,
   "metadata": {},
   "outputs": [],
   "source": [
    "#Use this script to create a chat engine based on your personal documents with Claude-3-opus!\n",
    "#This code has been generated and tested in May 2024. It will not be modified after publication.\n",
    "#If you use this for future work, please cite us. Thank you!\n",
    "#(c) Hannah Muti, EKFZ for Digital Health, Dresden University of Technology"
   ]
  },
  {
   "cell_type": "code",
   "execution_count": 2,
   "metadata": {},
   "outputs": [],
   "source": [
    "import os\n",
    "import openai\n",
    "import anthropic"
   ]
  },
  {
   "cell_type": "code",
   "execution_count": 3,
   "metadata": {},
   "outputs": [],
   "source": [
    "#This code uses the llama-index framework. If you run into errors, please check their documentation for updates and changes.\n",
    "import llama_index\n",
    "import chromadb\n",
    "from llama_index.embeddings.openai import OpenAIEmbedding\n",
    "from llama_index.core import Settings\n",
    "from llama_index.llms.anthropic import Anthropic"
   ]
  },
  {
   "cell_type": "code",
   "execution_count": 4,
   "metadata": {},
   "outputs": [],
   "source": [
    "#Specify your embedding function to create vector embeddings of your documents.  \n",
    "import chromadb.utils.embedding_functions as embedding_functions\n",
    "embedding_function = embedding_functions.OpenAIEmbeddingFunction(\n",
    "                api_key=\"YOUR-API-KEY\", #Insert your OpenAI API key here to create vector embeddings\n",
    "                model_name=\"text-embedding-3-large\"\n",
    "            )"
   ]
  },
  {
   "cell_type": "code",
   "execution_count": null,
   "metadata": {},
   "outputs": [],
   "source": [
    "#Read your documents. Ideally, store them within your project folder in a subfolder named \"data\" or edit the path accordingly.\n",
    "from llama_index.core import VectorStoreIndex, SimpleDirectoryReader, StorageContext\n",
    "from llama_index.vector_stores.chroma import ChromaVectorStore\n",
    "documents = SimpleDirectoryReader(\"./data\").load_data()\n",
    "documents"
   ]
  },
  {
   "cell_type": "code",
   "execution_count": 7,
   "metadata": {},
   "outputs": [],
   "source": [
    "# Initialize the chroma client to create your embeddings and set the path to store them\n",
    "db = chromadb.PersistentClient(path=\"./SOP_vector_database\")"
   ]
  },
  {
   "cell_type": "code",
   "execution_count": 8,
   "metadata": {},
   "outputs": [],
   "source": [
    "#Get or create (the function can do both) your vector collection with the chroma client and the embedding function you initialized above. We use cosine similarity for similarity search.\n",
    "chroma_collection = db.get_or_create_collection(name = \"SOP_vector_database\", embedding_function = embedding_function, metadata={\"hnsw:space\": \"cosine\"})\n"
   ]
  },
  {
   "cell_type": "code",
   "execution_count": 9,
   "metadata": {},
   "outputs": [],
   "source": [
    "#This assigns your vector store as the vector_store to the model later\n",
    "vector_store = ChromaVectorStore(chroma_collection=chroma_collection)\n",
    "storage_context = StorageContext.from_defaults(vector_store=vector_store)"
   ]
  },
  {
   "cell_type": "code",
   "execution_count": 10,
   "metadata": {},
   "outputs": [],
   "source": [
    "#This creates an index from your collection, which can be queried later\n",
    "index = VectorStoreIndex.from_documents(\n",
    "    documents, storage_context=storage_context\n",
    ")\n"
   ]
  },
  {
   "cell_type": "code",
   "execution_count": null,
   "metadata": {},
   "outputs": [],
   "source": [
    "#Check if it's there!\n",
    "index"
   ]
  },
  {
   "cell_type": "code",
   "execution_count": 12,
   "metadata": {},
   "outputs": [],
   "source": [
    "#This specifies the model which you want to use for querying. \n",
    "llm = Anthropic(model=\"claude-3-opus-20240229\", max_tokens=1500, api_key = \"YOUR-API-KEY\") #Insert your Anthropic API key here to query the API\n",
    "\n",
    "#Llama-index has different chat modes. I like react mode, because you can watch the model reason. For other chat modes, please check their website (there are faster ones).\n",
    "chat_engine = index.as_chat_engine(\n",
    "    chat_mode=\"react\",\n",
    "    system_prompt=(\n",
    "        \"Your system instruction.\" #Specify your system instruction here. Our system instruction can be found in our publication.\n",
    "    ),\n",
    "    llm=llm,\n",
    "    verbose=True,\n",
    "    chunk_size = 1048,\n",
    "    chunk_overlap = 50,\n",
    ")"
   ]
  },
  {
   "cell_type": "code",
   "execution_count": null,
   "metadata": {},
   "outputs": [],
   "source": [
    "#Optional: this resets your chat engine (if you run into context or memory issues...) without re-running everything.\n",
    "#chat_engine.reset()"
   ]
  },
  {
   "cell_type": "code",
   "execution_count": null,
   "metadata": {},
   "outputs": [],
   "source": [
    "#This queries your chat engine and gives you the answer, the source node and the file name of the document which was queried.\n",
    "response = chat_engine.chat(\"Ask me anything.\") ##Insert your question prompt here. Our prompts can be found in our publication.\n",
    "\n",
    "from llama_index.core.response.pprint_utils import pprint_response, pprint_source_node\n",
    "pprint_response(response, show_source=True)\n",
    "print(response.source_nodes[0].metadata['file_name'])"
   ]
  },
  {
   "cell_type": "code",
   "execution_count": null,
   "metadata": {},
   "outputs": [],
   "source": [
    "#The authors do not authorize the use of this application in clinical practice and are not liable for effects of unauthorized application."
   ]
  }
 ],
 "metadata": {
  "kernelspec": {
   "display_name": "venv",
   "language": "python",
   "name": "python3"
  },
  "language_info": {
   "codemirror_mode": {
    "name": "ipython",
    "version": 3
   },
   "file_extension": ".py",
   "mimetype": "text/x-python",
   "name": "python",
   "nbconvert_exporter": "python",
   "pygments_lexer": "ipython3",
   "version": "3.12.1"
  }
 },
 "nbformat": 4,
 "nbformat_minor": 2
}
